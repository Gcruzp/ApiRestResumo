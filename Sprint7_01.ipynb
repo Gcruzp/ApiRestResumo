{
  "nbformat": 4,
  "nbformat_minor": 0,
  "metadata": {
    "colab": {
      "provenance": [],
      "authorship_tag": "ABX9TyMQX45KxuiEFT9lFG0PODWZ",
      "include_colab_link": true
    },
    "kernelspec": {
      "name": "python3",
      "display_name": "Python 3"
    },
    "language_info": {
      "name": "python"
    }
  },
  "cells": [
    {
      "cell_type": "markdown",
      "metadata": {
        "id": "view-in-github",
        "colab_type": "text"
      },
      "source": [
        "<a href=\"https://colab.research.google.com/github/Gcruzp/ApiRestResumo/blob/main/Sprint7_01.ipynb\" target=\"_parent\"><img src=\"https://colab.research.google.com/assets/colab-badge.svg\" alt=\"Open In Colab\"/></a>"
      ]
    },
    {
      "cell_type": "code",
      "execution_count": 1,
      "metadata": {
        "id": "D4b1tfTJDUA6"
      },
      "outputs": [],
      "source": [
        "import pandas as pd\n"
      ]
    },
    {
      "cell_type": "code",
      "source": [
        "actors = '/actors.csv'"
      ],
      "metadata": {
        "id": "Qj1uEBrgDaG-"
      },
      "execution_count": 9,
      "outputs": []
    },
    {
      "cell_type": "code",
      "source": [
        "data = pd.read_csv(actors)"
      ],
      "metadata": {
        "id": "CgAtm-ezDaNG"
      },
      "execution_count": 12,
      "outputs": []
    },
    {
      "cell_type": "code",
      "source": [
        "movies_quant = data.loc[data['Number of Movies'].idxmax()]\n"
      ],
      "metadata": {
        "id": "xkKLKaDvDaPN"
      },
      "execution_count": 20,
      "outputs": []
    },
    {
      "cell_type": "code",
      "source": [
        "actor_name = movies_quant['Actor']\n",
        "number_of_movies = movies_quant['Number of Movies']"
      ],
      "metadata": {
        "id": "fnvoaYioDaRd"
      },
      "execution_count": 21,
      "outputs": []
    },
    {
      "cell_type": "code",
      "source": [
        "print(f'O ator/atriz com o maior número de filmes é {actor_name} com {number_of_movies} filmes.')\n"
      ],
      "metadata": {
        "colab": {
          "base_uri": "https://localhost:8080/"
        },
        "id": "Qn-1CYAoEzNT",
        "outputId": "194f288f-e423-4809-f06e-f7ee6b1b57b6"
      },
      "execution_count": 22,
      "outputs": [
        {
          "output_type": "stream",
          "name": "stdout",
          "text": [
            "O ator/atriz com o maior número de filmes é Robert DeNiro com 79 filmes.\n"
          ]
        }
      ]
    }
  ]
}